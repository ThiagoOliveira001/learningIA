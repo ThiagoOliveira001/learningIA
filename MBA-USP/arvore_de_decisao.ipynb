{
 "cells": [
  {
   "cell_type": "code",
   "execution_count": 1,
   "id": "3907297f-6aee-455c-9187-ec555537b02a",
   "metadata": {},
   "outputs": [],
   "source": [
    "import pandas as pd\n",
    "import math"
   ]
  },
  {
   "cell_type": "markdown",
   "id": "adbc6e40-0815-4801-8612-62843d3002ce",
   "metadata": {},
   "source": [
    "# DataFrame de exemplo"
   ]
  },
  {
   "cell_type": "code",
   "execution_count": 5,
   "id": "06080d02-a89b-4e40-b491-578c4cbf0d3f",
   "metadata": {},
   "outputs": [],
   "source": [
    "df = pd.DataFrame(data=[\n",
    "    { 'expectativa': 'sol', 'temperatura': 'quente', 'humidade': 'alta', 'vento': 'fraco', 'jogar_tenis': 'nao' },\n",
    "    { 'expectativa': 'sol', 'temperatura': 'quente', 'humidade': 'alta', 'vento': 'forte', 'jogar_tenis': 'nao' },\n",
    "    { 'expectativa': 'nublado', 'temperatura': 'quente', 'humidade': 'alta', 'vento': 'fraco', 'jogar_tenis': 'sim' },\n",
    "    { 'expectativa': 'chuva', 'temperatura': 'moderada', 'humidade': 'alta', 'vento': 'fraco', 'jogar_tenis': 'sim' },\n",
    "    { 'expectativa': 'chuva', 'temperatura': 'fresco', 'humidade': 'normal', 'vento': 'fraco', 'jogar_tenis': 'sim' },\n",
    "    { 'expectativa': 'chuva', 'temperatura': 'fresco', 'humidade': 'normal', 'vento': 'forte', 'jogar_tenis': 'nao' },\n",
    "    { 'expectativa': 'nublado', 'temperatura': 'fresco', 'humidade': 'normal', 'vento': 'forte', 'jogar_tenis': 'sim' },\n",
    "    { 'expectativa': 'sol', 'temperatura': 'moderada', 'humidade': 'alta', 'vento': 'fraco', 'jogar_tenis': 'nao' },\n",
    "    { 'expectativa': 'sol', 'temperatura': 'fresco', 'humidade': 'normal', 'vento': 'fraco', 'jogar_tenis': 'sim' },\n",
    "    { 'expectativa': 'chuva', 'temperatura': 'moderada', 'humidade': 'normal', 'vento': 'fraco', 'jogar_tenis': 'sim' },\n",
    "    { 'expectativa': 'sol', 'temperatura': 'moderada', 'humidade': 'normal', 'vento': 'forte', 'jogar_tenis': 'sim' },\n",
    "    { 'expectativa': 'nublado', 'temperatura': 'moderada', 'humidade': 'alta', 'vento': 'forte', 'jogar_tenis': 'sim' },\n",
    "    { 'expectativa': 'nublado', 'temperatura': 'quente', 'humidade': 'normal', 'vento': 'fraco', 'jogar_tenis': 'sim' },\n",
    "    { 'expectativa': 'chuva', 'temperatura': 'moderada', 'humidade': 'alta', 'vento': 'forte', 'jogar_tenis': 'nao' }, \n",
    "])"
   ]
  },
  {
   "cell_type": "code",
   "execution_count": 6,
   "id": "77958a1e-d0a5-4864-85d0-db698e9ba3a9",
   "metadata": {},
   "outputs": [
    {
     "data": {
      "text/html": [
       "<div>\n",
       "<style scoped>\n",
       "    .dataframe tbody tr th:only-of-type {\n",
       "        vertical-align: middle;\n",
       "    }\n",
       "\n",
       "    .dataframe tbody tr th {\n",
       "        vertical-align: top;\n",
       "    }\n",
       "\n",
       "    .dataframe thead th {\n",
       "        text-align: right;\n",
       "    }\n",
       "</style>\n",
       "<table border=\"1\" class=\"dataframe\">\n",
       "  <thead>\n",
       "    <tr style=\"text-align: right;\">\n",
       "      <th></th>\n",
       "      <th>expectativa</th>\n",
       "      <th>temperatura</th>\n",
       "      <th>humidade</th>\n",
       "      <th>vento</th>\n",
       "      <th>jogar_tenis</th>\n",
       "    </tr>\n",
       "  </thead>\n",
       "  <tbody>\n",
       "    <tr>\n",
       "      <th>0</th>\n",
       "      <td>sol</td>\n",
       "      <td>quente</td>\n",
       "      <td>alta</td>\n",
       "      <td>fraco</td>\n",
       "      <td>nao</td>\n",
       "    </tr>\n",
       "    <tr>\n",
       "      <th>1</th>\n",
       "      <td>sol</td>\n",
       "      <td>quente</td>\n",
       "      <td>alta</td>\n",
       "      <td>forte</td>\n",
       "      <td>nao</td>\n",
       "    </tr>\n",
       "    <tr>\n",
       "      <th>2</th>\n",
       "      <td>nublado</td>\n",
       "      <td>quente</td>\n",
       "      <td>alta</td>\n",
       "      <td>fraco</td>\n",
       "      <td>sim</td>\n",
       "    </tr>\n",
       "    <tr>\n",
       "      <th>3</th>\n",
       "      <td>chuva</td>\n",
       "      <td>moderada</td>\n",
       "      <td>alta</td>\n",
       "      <td>fraco</td>\n",
       "      <td>sim</td>\n",
       "    </tr>\n",
       "    <tr>\n",
       "      <th>4</th>\n",
       "      <td>chuva</td>\n",
       "      <td>fresco</td>\n",
       "      <td>normal</td>\n",
       "      <td>fraco</td>\n",
       "      <td>sim</td>\n",
       "    </tr>\n",
       "    <tr>\n",
       "      <th>5</th>\n",
       "      <td>chuva</td>\n",
       "      <td>fresco</td>\n",
       "      <td>normal</td>\n",
       "      <td>forte</td>\n",
       "      <td>nao</td>\n",
       "    </tr>\n",
       "    <tr>\n",
       "      <th>6</th>\n",
       "      <td>nublado</td>\n",
       "      <td>fresco</td>\n",
       "      <td>normal</td>\n",
       "      <td>forte</td>\n",
       "      <td>sim</td>\n",
       "    </tr>\n",
       "    <tr>\n",
       "      <th>7</th>\n",
       "      <td>sol</td>\n",
       "      <td>moderada</td>\n",
       "      <td>alta</td>\n",
       "      <td>fraco</td>\n",
       "      <td>nao</td>\n",
       "    </tr>\n",
       "    <tr>\n",
       "      <th>8</th>\n",
       "      <td>sol</td>\n",
       "      <td>fresco</td>\n",
       "      <td>normal</td>\n",
       "      <td>fraco</td>\n",
       "      <td>sim</td>\n",
       "    </tr>\n",
       "    <tr>\n",
       "      <th>9</th>\n",
       "      <td>chuva</td>\n",
       "      <td>moderada</td>\n",
       "      <td>normal</td>\n",
       "      <td>fraco</td>\n",
       "      <td>sim</td>\n",
       "    </tr>\n",
       "    <tr>\n",
       "      <th>10</th>\n",
       "      <td>sol</td>\n",
       "      <td>moderada</td>\n",
       "      <td>normal</td>\n",
       "      <td>forte</td>\n",
       "      <td>sim</td>\n",
       "    </tr>\n",
       "    <tr>\n",
       "      <th>11</th>\n",
       "      <td>nublado</td>\n",
       "      <td>moderada</td>\n",
       "      <td>alta</td>\n",
       "      <td>forte</td>\n",
       "      <td>sim</td>\n",
       "    </tr>\n",
       "    <tr>\n",
       "      <th>12</th>\n",
       "      <td>nublado</td>\n",
       "      <td>quente</td>\n",
       "      <td>normal</td>\n",
       "      <td>fraco</td>\n",
       "      <td>sim</td>\n",
       "    </tr>\n",
       "    <tr>\n",
       "      <th>13</th>\n",
       "      <td>chuva</td>\n",
       "      <td>moderada</td>\n",
       "      <td>alta</td>\n",
       "      <td>forte</td>\n",
       "      <td>nao</td>\n",
       "    </tr>\n",
       "  </tbody>\n",
       "</table>\n",
       "</div>"
      ],
      "text/plain": [
       "   expectativa temperatura humidade  vento jogar_tenis\n",
       "0          sol      quente     alta  fraco         nao\n",
       "1          sol      quente     alta  forte         nao\n",
       "2      nublado      quente     alta  fraco         sim\n",
       "3        chuva    moderada     alta  fraco         sim\n",
       "4        chuva      fresco   normal  fraco         sim\n",
       "5        chuva      fresco   normal  forte         nao\n",
       "6      nublado      fresco   normal  forte         sim\n",
       "7          sol    moderada     alta  fraco         nao\n",
       "8          sol      fresco   normal  fraco         sim\n",
       "9        chuva    moderada   normal  fraco         sim\n",
       "10         sol    moderada   normal  forte         sim\n",
       "11     nublado    moderada     alta  forte         sim\n",
       "12     nublado      quente   normal  fraco         sim\n",
       "13       chuva    moderada     alta  forte         nao"
      ]
     },
     "execution_count": 6,
     "metadata": {},
     "output_type": "execute_result"
    }
   ],
   "source": [
    "df"
   ]
  },
  {
   "cell_type": "markdown",
   "id": "8833b3be-c893-40a1-aa43-f2147f54d7de",
   "metadata": {},
   "source": [
    "# Arvore de decisão\n",
    "\n",
    "Para decidir qual elemento utilizar como nó raiz, e também para escolher como serão feitas as quebras pode ser utilizado o indice de Gini ou o Ganho de informação"
   ]
  },
  {
   "cell_type": "markdown",
   "id": "a5f7543f-f4a8-43b9-b868-eae1e332923f",
   "metadata": {},
   "source": [
    "## Entropia\n",
    "\n",
    "Medida que nos diz o quanto nossos dados estão desorganizados e misturados. Quanto maior a entropia, menor o ganho de informação e vice-versa. Nossos dados ficam menos entrópicos conforme dividimos os dados em conjuntos capazes de representar apenas uma classe do nosso modelo.\n",
    "\n",
    "$H(x)=\\displaystyle-\\sum_{i=1}^n p(x_i)log_2p(x_i)$\n",
    "\n",
    "A fórmula acima mostra que a entropia é a somatória das probabilidades de ocorrência de um elemento, multiplicada pelo logaritimo de base 2 da probabilidade de ocorrência.\n",
    "\n",
    "Dando como exemplo, temos 14 registros onde 9 são SIM e 5 são NÃO,logo o cálculo de sua entropia seria:\n",
    "$entropia=-(\\frac{9}{14})*log_2(\\frac{9}{14})-(\\frac{5}{14})*log_2(\\frac{5}{14})$<br>\n",
    "$entropia=-0.64*-0.64-0.36*-1.47$<br>\n",
    "$entropia=0.939$"
   ]
  },
  {
   "cell_type": "code",
   "execution_count": 8,
   "id": "596375c3-b3e8-4f3c-be0a-8b2dcee8edb8",
   "metadata": {},
   "outputs": [
    {
     "data": {
      "text/plain": [
       "expectativa  jogar_tenis\n",
       "chuva        nao            2\n",
       "             sim            3\n",
       "nublado      sim            4\n",
       "sol          nao            3\n",
       "             sim            2\n",
       "Name: expectativa, dtype: int64"
      ]
     },
     "execution_count": 8,
     "metadata": {},
     "output_type": "execute_result"
    }
   ],
   "source": [
    "df.groupby(['expectativa', 'jogar_tenis'])['expectativa'].count()"
   ]
  },
  {
   "cell_type": "markdown",
   "id": "32adf6e8-a45e-4fa6-b1b4-a8979797635e",
   "metadata": {},
   "source": [
    "## Ganho de informação\n",
    "O ganho de informação mede o quanto se ganha de pureza na seleção de determinado dado,quanto a maior a quantidade de impureza em um conjunto de dados, mais heterôgeneo ele será.\n",
    "\n",
    "Para escolher qual propriedade deve ser utilizada no nó raiz, podemos pegar aquele que possuí o maior ganho\n",
    "\n",
    "$Gain(S,A)=Entropia(S)-\\sum_{v\\in valores(A)}P(A_v)*Entropia(A_v)$<br>\n",
    "Onde S é todo o conjunto, A é uma váriavel desse conjunto e v um valor de A, por exemplo Av pode ser igual a expectativa(A)=nublado(v).\n",
    "\n",
    "$Entropia(sol)=-(\\frac{3}{5})*log_2(\\frac{3}{5})-(\\frac{2}{5})*log_2(\\frac{2}{5})=0.971$\n",
    "$Entropia(nublado)=-(\\frac{0}{4})*log_2(\\frac{0}{4})-(\\frac{4}{4})*log_2(\\frac{4}{4})=0$\n",
    "$Entropia(chuva)=-(\\frac{2}{5})*log_2(\\frac{2}{5})-(\\frac{3}{5})*log_2(\\frac{3}{5})=0.971$<br>\n",
    "No nublado consideramos que o logaritimo de zero é zero e que 0 divido por qualquer valor será igual a zero.\n",
    "\n",
    "$Gain(S,expectativa)=0.939-(\\frac{5}{14}*0.971)-(\\frac{4}{14}*0)-(\\frac{5}{14}*0.971)$\n",
    "$Gain(S,expectativa)=0.939-(0.357*0.971)-(0.286*0)-(0.357*0.971)$\n",
    "$Gain(S,expectativa)=0.939-0.347-0-0.347=0.245$<br>\n",
    "\n",
    "Nossa propriedade expectativa possui um ganho de informação de 0.245 bits"
   ]
  },
  {
   "cell_type": "code",
   "execution_count": 59,
   "id": "0f2b598b-a059-4971-ba26-e12977ebb5d5",
   "metadata": {},
   "outputs": [],
   "source": [
    "# quantidade_total Quantidade de vezes que o valor aparece no conjunto\n",
    "# quantidade_por_classe Quantidade de vezes que o valor aparece em cada classe(5 vezes no sim e 8 no não por exemplo)\n",
    "def calc_entropia(quantidade_total, quantidade_por_classe):\n",
    "    entropia = None\n",
    "    for valor in quantidade_por_classe:\n",
    "        if valor == 0:\n",
    "            continue\n",
    "        if entropia == None:\n",
    "            entropia = -(valor/quantidade_total)*math.log2(valor/quantidade_total)\n",
    "            continue\n",
    "        entropia -= (valor/quantidade_total)*math.log2(valor/quantidade_total)\n",
    "    \n",
    "    return entropia"
   ]
  },
  {
   "cell_type": "code",
   "execution_count": 101,
   "id": "3dde9f60-0b28-4593-8e66-fddc2d1b8b79",
   "metadata": {},
   "outputs": [],
   "source": [
    "def pega_qtd_vezes_valores_aparecem(conjunto, classe_alvo, coluna_condicional=None, valor_alvo=None):\n",
    "    if coluna_condicional == None:\n",
    "        return conjunto.groupby(classe_alvo)[classe_alvo].count().tolist()\n",
    "    return conjunto[conjunto[coluna_condicional] == valor_alvo].groupby(classe_alvo)[classe_alvo].count().tolist()\n",
    "    \n",
    "def calc_ganho_informacao(conjunto, classe_alvo):\n",
    "    tamanho_conjunto = conjunto.shape[0]\n",
    "    valores_classe_alvo = conjunto[classe_alvo].unique().tolist()\n",
    "    \n",
    "    entropia_conjunto = calc_entropia(\n",
    "        tamanho_conjunto,\n",
    "        pega_qtd_vezes_valores_aparecem(conjunto, classe_alvo)\n",
    "    )\n",
    "    \n",
    "    ganho_informacao_variaveis = dict()\n",
    "    for coluna in conjunto.columns:\n",
    "        entropias_coluna = []\n",
    "        \n",
    "        if coluna == classe_alvo:\n",
    "            continue\n",
    "        \n",
    "        for valor in conjunto[coluna].unique().tolist():\n",
    "            total_aparicao_valor = conjunto[conjunto[coluna] == valor][coluna].count()\n",
    "            qtd_aparicao_valor_por_classe = pega_qtd_vezes_valores_aparecem(\n",
    "                conjunto,\n",
    "                classe_alvo,\n",
    "                coluna,\n",
    "                valor\n",
    "            )\n",
    "            entropia_valor = calc_entropia(total_aparicao_valor, qtd_aparicao_valor_por_classe)\n",
    "            entropias_coluna.append((entropia_valor,total_aparicao_valor))\n",
    "            \n",
    "        entropia_media_coluna = 0\n",
    "        for ent, qtd_valor in entropias_coluna:\n",
    "            entropia_media_coluna += ((qtd_valor/tamanho_conjunto)*ent)\n",
    "        \n",
    "        ganho_informacao_variaveis[coluna] = entropia_conjunto - entropia_media_coluna\n",
    "        \n",
    "    return ganho_informacao_variaveis"
   ]
  },
  {
   "cell_type": "code",
   "execution_count": 102,
   "id": "3e99c995-2e2d-4a6a-abe4-7132484be9ef",
   "metadata": {},
   "outputs": [
    {
     "data": {
      "text/plain": [
       "{'expectativa': 0.24674981977443933,\n",
       " 'temperatura': 0.02922256565895487,\n",
       " 'humidade': 0.15183550136234159,\n",
       " 'vento': 0.04812703040826949}"
      ]
     },
     "execution_count": 102,
     "metadata": {},
     "output_type": "execute_result"
    }
   ],
   "source": [
    "calc_ganho_informacao(df, 'jogar_tenis')"
   ]
  },
  {
   "cell_type": "markdown",
   "id": "1550db30-9871-4b30-9533-c3791c9b35d7",
   "metadata": {},
   "source": [
    "## Escolha da variável\n",
    "A expectativa deve ser nosso nó raiz, pois ela possui o maior ganho de informação"
   ]
  },
  {
   "cell_type": "markdown",
   "id": "b1dd31c5-abfa-4f62-a0b2-91e7d3040fa7",
   "metadata": {},
   "source": [
    "# Indice GINI\n",
    "Usado para medir a frêquencia que um elemento será escolhido erroneamente, quanto menor o indice melhor a escolha\n",
    "\n",
    "$Gini(x)=1-\\sum_jP^2_j$\n",
    "\n",
    "            -----------------------------\n",
    "            |  Pessoas:           15328 |\n",
    "            |  Inadimplente(SIM): 542   |\n",
    "            |  Inadimplente(NAO): 14786 | \n",
    "            -----------------------------\n",
    "    Possui imóvel? Sim      |   Possui imóvel? Não\n",
    "       ------------------------------------------------------          \n",
    "       |                                                    |\n",
    "    -----------------------------       ----------------------------- \n",
    "    |  Pessoas:           12779 |       |  Pessoas:           2549  |\n",
    "    |  Inadimplente(SIM): 440   |       |  Inadimplente(SIM): 102   |\n",
    "    |  Inadimplente(NAO): 12339 |       |  Inadimplente(NAO): 2447  |\n",
    "    -----------------------------       -----------------------------\n",
    "    \n",
    "Com base na arvóre acima vamos calcular os indices de Gini\n",
    "\n",
    "###### Possui imóvel\n",
    "$Gini(ImovelS)= 1-[(\\frac{440}{12779})^2+(\\frac{12339}{12779})^2]=0.07$<br>\n",
    "$Gini(ImovelN)= 1-[(\\frac{102}{2549})^2+(\\frac{2447}{2549})^2]=0.08$<br>\n",
    "\n",
    "Logo a impureza de gini do nosso nó raiz será<br>\n",
    "$Impureza=[(\\frac{12779}{15328})*0.07]+[(\\frac{2549}{15328})*0.08]=0.07$"
   ]
  },
  {
   "cell_type": "code",
   "execution_count": 12,
   "id": "ec9add1f-d093-4850-8734-5c9c3fd023ac",
   "metadata": {},
   "outputs": [],
   "source": [
    "def calc_gini(total, valores):\n",
    "    acm = 0\n",
    "    for valor in valores:\n",
    "        acm += (valor/total)**2\n",
    "    return round(1-acm, 2)\n",
    "\n",
    "def calc_impureza_gini(total, valores_gini):\n",
    "    acm = 0\n",
    "    for valor, gini in valores_gini:\n",
    "        acm += (valor/total)*gini\n",
    "    return round(acm, 2)"
   ]
  },
  {
   "cell_type": "code",
   "execution_count": 13,
   "id": "630035de-adc4-49a6-8b02-869810fa52c0",
   "metadata": {},
   "outputs": [
    {
     "data": {
      "text/plain": [
       "0.07"
      ]
     },
     "execution_count": 13,
     "metadata": {},
     "output_type": "execute_result"
    }
   ],
   "source": [
    "calc_impureza_gini(\n",
    "    15328, \n",
    "    [\n",
    "        (12779, calc_gini(12779, [440,12339])),\n",
    "        (2549, calc_gini(2549, [102,2447]))\n",
    "    ]\n",
    ")"
   ]
  },
  {
   "cell_type": "code",
   "execution_count": null,
   "id": "c77670f0-9273-4bff-b0b3-07b1535c1a6f",
   "metadata": {},
   "outputs": [],
   "source": []
  }
 ],
 "metadata": {
  "kernelspec": {
   "display_name": "Python 3 (ipykernel)",
   "language": "python",
   "name": "python3"
  },
  "language_info": {
   "codemirror_mode": {
    "name": "ipython",
    "version": 3
   },
   "file_extension": ".py",
   "mimetype": "text/x-python",
   "name": "python",
   "nbconvert_exporter": "python",
   "pygments_lexer": "ipython3",
   "version": "3.9.13"
  }
 },
 "nbformat": 4,
 "nbformat_minor": 5
}
